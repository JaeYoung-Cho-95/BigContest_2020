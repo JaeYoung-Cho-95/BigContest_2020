{
 "cells": [
  {
   "cell_type": "code",
   "execution_count": 1,
   "metadata": {},
   "outputs": [],
   "source": [
    "import numpy as np\n",
    "import pandas as pd\n",
    "import matplotlib.pyplot as plt\n",
    "import matplotlib as rc\n",
    "import copy\n",
    "%matplotlib inline"
   ]
  },
  {
   "cell_type": "code",
   "execution_count": 2,
   "metadata": {},
   "outputs": [],
   "source": [
    "import warnings\n",
    "warnings.filterwarnings(action='ignore')"
   ]
  },
  {
   "cell_type": "code",
   "execution_count": 3,
   "metadata": {},
   "outputs": [],
   "source": [
    "plt.rc('font', family = 'AppleGothic')\n",
    "plt.rcParams['axes.unicode_minus'] = False"
   ]
  },
  {
   "cell_type": "code",
   "execution_count": 4,
   "metadata": {},
   "outputs": [],
   "source": [
    "text_foreigner = pd.read_csv(\"/Users/jaeyoungcho/Desktop/BigContest/데이터 정의서 및     모음/02_카드매출데이터(신한카드)/CARD_SPENDING_FOREIGNER.txt\",sep = '\\t',encoding='CP949')\n",
    "text_resident = pd.read_csv(\"/Users/jaeyoungcho/Desktop/BigContest/데이터 정의서 및     모음/02_카드매출데이터(신한카드)/CARD_SPENDING_RESIDENT.txt\",sep = '\\t',encoding='CP949')\n",
    "kr_daily = pd.read_csv('/Users/jaeyoungcho/Desktop/BigContest/데이터 정의서 및     모음/코로나 일별 확진자.csv',sep = ',',encoding='CP949')\n",
    "ind = pd.read_excel(\"/Users/jaeyoungcho/Desktop/BigContest/데이터 정의서 및     모음/카드소비데이터(신한카드)_데이터정의서.xlsx\",sheet_name=2,header=2)\n",
    "dong = pd.read_excel(\"/Users/jaeyoungcho/Desktop/BigContest/데이터 정의서 및     모음/카드소비데이터(신한카드)_데이터정의서.xlsx\",sheet_name=1,header=1)"
   ]
  },
  {
   "cell_type": "code",
   "execution_count": 5,
   "metadata": {},
   "outputs": [],
   "source": [
    "X = []\n",
    "for i in ind['Unnamed: 1']:\n",
    "    if type(i) == str:\n",
    "        X.append(i)\n",
    "a = []\n",
    "b = []\n",
    "for i in X:\n",
    "    a.append(i[:-4])\n",
    "    b.append(int(i[-3:-1]))\n",
    "ind = dict(zip(b,a))"
   ]
  },
  {
   "cell_type": "markdown",
   "metadata": {},
   "source": [
    "# foreigner data EDA"
   ]
  },
  {
   "cell_type": "code",
   "execution_count": 6,
   "metadata": {},
   "outputs": [
    {
     "data": {
      "text/html": [
       "<div>\n",
       "<style scoped>\n",
       "    .dataframe tbody tr th:only-of-type {\n",
       "        vertical-align: middle;\n",
       "    }\n",
       "\n",
       "    .dataframe tbody tr th {\n",
       "        vertical-align: top;\n",
       "    }\n",
       "\n",
       "    .dataframe thead th {\n",
       "        text-align: right;\n",
       "    }\n",
       "</style>\n",
       "<table border=\"1\" class=\"dataframe\">\n",
       "  <thead>\n",
       "    <tr style=\"text-align: right;\">\n",
       "      <th></th>\n",
       "      <th>업종코드</th>\n",
       "      <th>나라</th>\n",
       "      <th>일자</th>\n",
       "      <th>행정동명</th>\n",
       "      <th>이용건수_x</th>\n",
       "      <th>이용건수_y</th>\n",
       "      <th>이용금액_x</th>\n",
       "      <th>이용금액_y</th>\n",
       "      <th>이용금액 차이</th>\n",
       "      <th>이용건수 차이</th>\n",
       "    </tr>\n",
       "  </thead>\n",
       "  <tbody>\n",
       "    <tr>\n",
       "      <th>0</th>\n",
       "      <td>10</td>\n",
       "      <td>대만</td>\n",
       "      <td>220</td>\n",
       "      <td>범어1동</td>\n",
       "      <td>8</td>\n",
       "      <td>1</td>\n",
       "      <td>630.0</td>\n",
       "      <td>114.0</td>\n",
       "      <td>-516.0</td>\n",
       "      <td>-7</td>\n",
       "    </tr>\n",
       "    <tr>\n",
       "      <th>1</th>\n",
       "      <td>10</td>\n",
       "      <td>대만</td>\n",
       "      <td>204</td>\n",
       "      <td>범어1동</td>\n",
       "      <td>12</td>\n",
       "      <td>41</td>\n",
       "      <td>888.0</td>\n",
       "      <td>5135.0</td>\n",
       "      <td>4247.0</td>\n",
       "      <td>29</td>\n",
       "    </tr>\n",
       "    <tr>\n",
       "      <th>2</th>\n",
       "      <td>10</td>\n",
       "      <td>대만</td>\n",
       "      <td>218</td>\n",
       "      <td>범어1동</td>\n",
       "      <td>13</td>\n",
       "      <td>19</td>\n",
       "      <td>974.0</td>\n",
       "      <td>2455.0</td>\n",
       "      <td>1481.0</td>\n",
       "      <td>6</td>\n",
       "    </tr>\n",
       "    <tr>\n",
       "      <th>3</th>\n",
       "      <td>10</td>\n",
       "      <td>대만</td>\n",
       "      <td>210</td>\n",
       "      <td>범어1동</td>\n",
       "      <td>40</td>\n",
       "      <td>17</td>\n",
       "      <td>3237.0</td>\n",
       "      <td>1139.0</td>\n",
       "      <td>-2098.0</td>\n",
       "      <td>-23</td>\n",
       "    </tr>\n",
       "    <tr>\n",
       "      <th>4</th>\n",
       "      <td>22</td>\n",
       "      <td>미국</td>\n",
       "      <td>324</td>\n",
       "      <td>범어1동</td>\n",
       "      <td>1</td>\n",
       "      <td>1</td>\n",
       "      <td>151.0</td>\n",
       "      <td>100.0</td>\n",
       "      <td>-51.0</td>\n",
       "      <td>0</td>\n",
       "    </tr>\n",
       "    <tr>\n",
       "      <th>...</th>\n",
       "      <td>...</td>\n",
       "      <td>...</td>\n",
       "      <td>...</td>\n",
       "      <td>...</td>\n",
       "      <td>...</td>\n",
       "      <td>...</td>\n",
       "      <td>...</td>\n",
       "      <td>...</td>\n",
       "      <td>...</td>\n",
       "      <td>...</td>\n",
       "    </tr>\n",
       "    <tr>\n",
       "      <th>57951</th>\n",
       "      <td>40</td>\n",
       "      <td>미국</td>\n",
       "      <td>519</td>\n",
       "      <td>상계9동</td>\n",
       "      <td>1</td>\n",
       "      <td>1</td>\n",
       "      <td>26.0</td>\n",
       "      <td>16.0</td>\n",
       "      <td>-10.0</td>\n",
       "      <td>0</td>\n",
       "    </tr>\n",
       "    <tr>\n",
       "      <th>57952</th>\n",
       "      <td>81</td>\n",
       "      <td>미국</td>\n",
       "      <td>204</td>\n",
       "      <td>상계9동</td>\n",
       "      <td>1</td>\n",
       "      <td>1</td>\n",
       "      <td>23.0</td>\n",
       "      <td>72.0</td>\n",
       "      <td>49.0</td>\n",
       "      <td>0</td>\n",
       "    </tr>\n",
       "    <tr>\n",
       "      <th>57953</th>\n",
       "      <td>81</td>\n",
       "      <td>미국</td>\n",
       "      <td>503</td>\n",
       "      <td>상계9동</td>\n",
       "      <td>1</td>\n",
       "      <td>2</td>\n",
       "      <td>57.0</td>\n",
       "      <td>45.0</td>\n",
       "      <td>-12.0</td>\n",
       "      <td>1</td>\n",
       "    </tr>\n",
       "    <tr>\n",
       "      <th>57954</th>\n",
       "      <td>40</td>\n",
       "      <td>미국</td>\n",
       "      <td>513</td>\n",
       "      <td>상계9동</td>\n",
       "      <td>2</td>\n",
       "      <td>2</td>\n",
       "      <td>85.0</td>\n",
       "      <td>54.0</td>\n",
       "      <td>-31.0</td>\n",
       "      <td>0</td>\n",
       "    </tr>\n",
       "    <tr>\n",
       "      <th>57955</th>\n",
       "      <td>81</td>\n",
       "      <td>미국</td>\n",
       "      <td>412</td>\n",
       "      <td>상계9동</td>\n",
       "      <td>1</td>\n",
       "      <td>1</td>\n",
       "      <td>98.0</td>\n",
       "      <td>9.0</td>\n",
       "      <td>-89.0</td>\n",
       "      <td>0</td>\n",
       "    </tr>\n",
       "  </tbody>\n",
       "</table>\n",
       "<p>57956 rows × 10 columns</p>\n",
       "</div>"
      ],
      "text/plain": [
       "       업종코드  나라   일자  행정동명  이용건수_x  이용건수_y  이용금액_x  이용금액_y  이용금액 차이  이용건수 차이\n",
       "0        10  대만  220  범어1동       8       1   630.0   114.0   -516.0       -7\n",
       "1        10  대만  204  범어1동      12      41   888.0  5135.0   4247.0       29\n",
       "2        10  대만  218  범어1동      13      19   974.0  2455.0   1481.0        6\n",
       "3        10  대만  210  범어1동      40      17  3237.0  1139.0  -2098.0      -23\n",
       "4        22  미국  324  범어1동       1       1   151.0   100.0    -51.0        0\n",
       "...     ...  ..  ...   ...     ...     ...     ...     ...      ...      ...\n",
       "57951    40  미국  519  상계9동       1       1    26.0    16.0    -10.0        0\n",
       "57952    81  미국  204  상계9동       1       1    23.0    72.0     49.0        0\n",
       "57953    81  미국  503  상계9동       1       2    57.0    45.0    -12.0        1\n",
       "57954    40  미국  513  상계9동       2       2    85.0    54.0    -31.0        0\n",
       "57955    81  미국  412  상계9동       1       1    98.0     9.0    -89.0        0\n",
       "\n",
       "[57956 rows x 10 columns]"
      ]
     },
     "execution_count": 6,
     "metadata": {},
     "output_type": "execute_result"
    }
   ],
   "source": [
    "text_foreigner = pd.read_csv(\"/Users/jaeyoungcho/Desktop/BigContest/데이터 정의서 및     모음/02_카드매출데이터(신한카드)/CARD_SPENDING_FOREIGNER.txt\",sep = '\\t',encoding='CP949')\n",
    "kr_daily = pd.read_csv('/Users/jaeyoungcho/Desktop/BigContest/데이터 정의서 및     모음/코로나 일별 확진자.csv',sep = ',',encoding='CP949')\n",
    "dong = pd.read_excel(\"/Users/jaeyoungcho/Desktop/BigContest/데이터 정의서 및     모음/카드소비데이터(신한카드)_데이터정의서.xlsx\",sheet_name=1,header=1)\n",
    "\n",
    "text_foreigner.columns = ['기준일자','구코드','동코드','업종코드','나라','이용건수','이용금액']\n",
    "dong.rename(columns={'행정동코드':'동코드'},inplace = True)\n",
    "\n",
    "text_foreigner = pd.merge(text_foreigner,dong[['구코드','동코드','행정동명']],on = ['구코드','동코드'])\n",
    "text_foreigner['일자'] = pd.Series(map(lambda x : x % 1000 ,text_foreigner['기준일자']))\n",
    "text_foreigner['기준해'] = pd.Series(map(lambda x : x // 10000, text_foreigner['기준일자']))\n",
    "# fore_19,fore_20 으로 2019년,2020년을 기준으로 나눠서 매핑\n",
    "fore_19 = text_foreigner.loc[text_foreigner['기준해'] == 2019].drop(['기준해','기준일자'],axis = 1).reset_index(drop=True)\n",
    "fore_20 = text_foreigner.loc[text_foreigner['기준해'] == 2020].drop(['기준해','기준일자'],axis = 1).reset_index(drop=True)\n",
    "# 20년도 외국인데이터에 3개의 결측치가 있었지만 무시해도 될만큼 충분히 많은 양의 데이터를 가지고 있기에 drop\n",
    "fore_20.dropna(inplace = True)\n",
    "# 2019년,2020년 업종코드,나라,행정동명,일자 가 같은 것들 끼리 병합\n",
    "# fore_20 변수를 그대로 덮어서 매핑\n",
    "fore_20 = pd.merge(fore_19,fore_20,on = ['업종코드','나라','행정동명','일자'])\n",
    "fore_20 = pd.merge(fore_19,fore_20,on = ['업종코드','나라','행정동명','일자'])\n",
    "fore_20 = fore_20[['업종코드','나라','일자','행정동명','이용건수_x','이용건수_y','이용금액_x','이용금액_y']]\n",
    "# 이용금액의 년 단위 차분데이터 컬럼 추가\n",
    "fore_20['이용금액 차이'] = fore_20['이용금액_y'] - fore_20['이용금액_x']\n",
    "fore_20['이용건수 차이'] = fore_20['이용건수_y'] - fore_20['이용건수_x']\n",
    "\n",
    "fore_20"
   ]
  },
  {
   "cell_type": "code",
   "execution_count": 7,
   "metadata": {},
   "outputs": [],
   "source": [
    "fore_20.drop(fore_20.columns[4:8],axis = 1,inplace = True)"
   ]
  },
  {
   "cell_type": "code",
   "execution_count": 8,
   "metadata": {},
   "outputs": [
    {
     "data": {
      "text/html": [
       "<div>\n",
       "<style scoped>\n",
       "    .dataframe tbody tr th:only-of-type {\n",
       "        vertical-align: middle;\n",
       "    }\n",
       "\n",
       "    .dataframe tbody tr th {\n",
       "        vertical-align: top;\n",
       "    }\n",
       "\n",
       "    .dataframe thead th {\n",
       "        text-align: right;\n",
       "    }\n",
       "</style>\n",
       "<table border=\"1\" class=\"dataframe\">\n",
       "  <thead>\n",
       "    <tr style=\"text-align: right;\">\n",
       "      <th></th>\n",
       "      <th>업종코드</th>\n",
       "      <th>나라</th>\n",
       "      <th>일자</th>\n",
       "      <th>행정동명</th>\n",
       "      <th>이용금액 차이</th>\n",
       "      <th>이용건수 차이</th>\n",
       "    </tr>\n",
       "  </thead>\n",
       "  <tbody>\n",
       "    <tr>\n",
       "      <th>0</th>\n",
       "      <td>10</td>\n",
       "      <td>대만</td>\n",
       "      <td>220</td>\n",
       "      <td>범어1동</td>\n",
       "      <td>-516.0</td>\n",
       "      <td>-7</td>\n",
       "    </tr>\n",
       "    <tr>\n",
       "      <th>1</th>\n",
       "      <td>10</td>\n",
       "      <td>대만</td>\n",
       "      <td>204</td>\n",
       "      <td>범어1동</td>\n",
       "      <td>4247.0</td>\n",
       "      <td>29</td>\n",
       "    </tr>\n",
       "    <tr>\n",
       "      <th>2</th>\n",
       "      <td>10</td>\n",
       "      <td>대만</td>\n",
       "      <td>218</td>\n",
       "      <td>범어1동</td>\n",
       "      <td>1481.0</td>\n",
       "      <td>6</td>\n",
       "    </tr>\n",
       "    <tr>\n",
       "      <th>3</th>\n",
       "      <td>10</td>\n",
       "      <td>대만</td>\n",
       "      <td>210</td>\n",
       "      <td>범어1동</td>\n",
       "      <td>-2098.0</td>\n",
       "      <td>-23</td>\n",
       "    </tr>\n",
       "    <tr>\n",
       "      <th>4</th>\n",
       "      <td>22</td>\n",
       "      <td>미국</td>\n",
       "      <td>324</td>\n",
       "      <td>범어1동</td>\n",
       "      <td>-51.0</td>\n",
       "      <td>0</td>\n",
       "    </tr>\n",
       "    <tr>\n",
       "      <th>...</th>\n",
       "      <td>...</td>\n",
       "      <td>...</td>\n",
       "      <td>...</td>\n",
       "      <td>...</td>\n",
       "      <td>...</td>\n",
       "      <td>...</td>\n",
       "    </tr>\n",
       "    <tr>\n",
       "      <th>57951</th>\n",
       "      <td>40</td>\n",
       "      <td>미국</td>\n",
       "      <td>519</td>\n",
       "      <td>상계9동</td>\n",
       "      <td>-10.0</td>\n",
       "      <td>0</td>\n",
       "    </tr>\n",
       "    <tr>\n",
       "      <th>57952</th>\n",
       "      <td>81</td>\n",
       "      <td>미국</td>\n",
       "      <td>204</td>\n",
       "      <td>상계9동</td>\n",
       "      <td>49.0</td>\n",
       "      <td>0</td>\n",
       "    </tr>\n",
       "    <tr>\n",
       "      <th>57953</th>\n",
       "      <td>81</td>\n",
       "      <td>미국</td>\n",
       "      <td>503</td>\n",
       "      <td>상계9동</td>\n",
       "      <td>-12.0</td>\n",
       "      <td>1</td>\n",
       "    </tr>\n",
       "    <tr>\n",
       "      <th>57954</th>\n",
       "      <td>40</td>\n",
       "      <td>미국</td>\n",
       "      <td>513</td>\n",
       "      <td>상계9동</td>\n",
       "      <td>-31.0</td>\n",
       "      <td>0</td>\n",
       "    </tr>\n",
       "    <tr>\n",
       "      <th>57955</th>\n",
       "      <td>81</td>\n",
       "      <td>미국</td>\n",
       "      <td>412</td>\n",
       "      <td>상계9동</td>\n",
       "      <td>-89.0</td>\n",
       "      <td>0</td>\n",
       "    </tr>\n",
       "  </tbody>\n",
       "</table>\n",
       "<p>57956 rows × 6 columns</p>\n",
       "</div>"
      ],
      "text/plain": [
       "       업종코드  나라   일자  행정동명  이용금액 차이  이용건수 차이\n",
       "0        10  대만  220  범어1동   -516.0       -7\n",
       "1        10  대만  204  범어1동   4247.0       29\n",
       "2        10  대만  218  범어1동   1481.0        6\n",
       "3        10  대만  210  범어1동  -2098.0      -23\n",
       "4        22  미국  324  범어1동    -51.0        0\n",
       "...     ...  ..  ...   ...      ...      ...\n",
       "57951    40  미국  519  상계9동    -10.0        0\n",
       "57952    81  미국  204  상계9동     49.0        0\n",
       "57953    81  미국  503  상계9동    -12.0        1\n",
       "57954    40  미국  513  상계9동    -31.0        0\n",
       "57955    81  미국  412  상계9동    -89.0        0\n",
       "\n",
       "[57956 rows x 6 columns]"
      ]
     },
     "execution_count": 8,
     "metadata": {},
     "output_type": "execute_result"
    }
   ],
   "source": [
    "fore_20"
   ]
  },
  {
   "cell_type": "markdown",
   "metadata": {},
   "source": [
    "### 업종코드별 이용금액 차분데이터 크기별 bar plot(일반통계량)"
   ]
  },
  {
   "cell_type": "code",
   "execution_count": 9,
   "metadata": {},
   "outputs": [
    {
     "data": {
      "text/plain": [
       "<matplotlib.axes._subplots.AxesSubplot at 0x7ffd3b1e9b00>"
      ]
     },
     "execution_count": 9,
     "metadata": {},
     "output_type": "execute_result"
    },
    {
     "data": {
      "image/png": "[encoded data removed]",
      "text/plain": [
       "<Figure size 432x288 with 1 Axes>"
      ]
     },
     "metadata": {
      "needs_background": "light"
     },
     "output_type": "display_data"
    }
   ],
   "source": [
    "fore_20.groupby(['업종코드'])['이용건수 차이'].sum().plot(kind = 'bar',label = '이용건수 차이',legend = 'best')"
   ]
  },
  {
   "cell_type": "code",
   "execution_count": 10,
   "metadata": {},
   "outputs": [
    {
     "data": {
      "text/plain": [
       "<matplotlib.axes._subplots.AxesSubplot at 0x7ffd3ac1b7f0>"
      ]
     },
     "execution_count": 10,
     "metadata": {},
     "output_type": "execute_result"
    },
    {
     "data": {
      "image/png": "[encoded data removed]",
      "text/plain": [
       "<Figure size 432x288 with 1 Axes>"
      ]
     },
     "metadata": {
      "needs_background": "light"
     },
     "output_type": "display_data"
    }
   ],
   "source": [
    "fore_20.groupby(['업종코드'])['이용금액 차이'].sum().plot(kind = 'bar',label = '이용금액 차이',legend = 'best')"
   ]
  },
  {
   "cell_type": "markdown",
   "metadata": {},
   "source": [
    "###  업종별로 이용금액과 이용건수의 차분데이터를 클러스터링"
   ]
  },
  {
   "cell_type": "code",
   "execution_count": 11,
   "metadata": {},
   "outputs": [
    {
     "data": {
      "text/html": [
       "<div>\n",
       "<style scoped>\n",
       "    .dataframe tbody tr th:only-of-type {\n",
       "        vertical-align: middle;\n",
       "    }\n",
       "\n",
       "    .dataframe tbody tr th {\n",
       "        vertical-align: top;\n",
       "    }\n",
       "\n",
       "    .dataframe thead th {\n",
       "        text-align: right;\n",
       "    }\n",
       "</style>\n",
       "<table border=\"1\" class=\"dataframe\">\n",
       "  <thead>\n",
       "    <tr style=\"text-align: right;\">\n",
       "      <th></th>\n",
       "      <th>cluster</th>\n",
       "      <th>나라</th>\n",
       "      <th>일자</th>\n",
       "      <th>행정동명</th>\n",
       "      <th>이용금액 차이</th>\n",
       "      <th>이용건수 차이</th>\n",
       "    </tr>\n",
       "  </thead>\n",
       "  <tbody>\n",
       "    <tr>\n",
       "      <th>0</th>\n",
       "      <td>2</td>\n",
       "      <td>대만</td>\n",
       "      <td>220</td>\n",
       "      <td>범어1동</td>\n",
       "      <td>-516.0</td>\n",
       "      <td>-7</td>\n",
       "    </tr>\n",
       "    <tr>\n",
       "      <th>1</th>\n",
       "      <td>2</td>\n",
       "      <td>대만</td>\n",
       "      <td>204</td>\n",
       "      <td>범어1동</td>\n",
       "      <td>4247.0</td>\n",
       "      <td>29</td>\n",
       "    </tr>\n",
       "    <tr>\n",
       "      <th>2</th>\n",
       "      <td>2</td>\n",
       "      <td>대만</td>\n",
       "      <td>218</td>\n",
       "      <td>범어1동</td>\n",
       "      <td>1481.0</td>\n",
       "      <td>6</td>\n",
       "    </tr>\n",
       "    <tr>\n",
       "      <th>3</th>\n",
       "      <td>2</td>\n",
       "      <td>대만</td>\n",
       "      <td>210</td>\n",
       "      <td>범어1동</td>\n",
       "      <td>-2098.0</td>\n",
       "      <td>-23</td>\n",
       "    </tr>\n",
       "    <tr>\n",
       "      <th>4</th>\n",
       "      <td>0</td>\n",
       "      <td>미국</td>\n",
       "      <td>324</td>\n",
       "      <td>범어1동</td>\n",
       "      <td>-51.0</td>\n",
       "      <td>0</td>\n",
       "    </tr>\n",
       "    <tr>\n",
       "      <th>...</th>\n",
       "      <td>...</td>\n",
       "      <td>...</td>\n",
       "      <td>...</td>\n",
       "      <td>...</td>\n",
       "      <td>...</td>\n",
       "      <td>...</td>\n",
       "    </tr>\n",
       "    <tr>\n",
       "      <th>57951</th>\n",
       "      <td>1</td>\n",
       "      <td>미국</td>\n",
       "      <td>519</td>\n",
       "      <td>상계9동</td>\n",
       "      <td>-10.0</td>\n",
       "      <td>0</td>\n",
       "    </tr>\n",
       "    <tr>\n",
       "      <th>57952</th>\n",
       "      <td>0</td>\n",
       "      <td>미국</td>\n",
       "      <td>204</td>\n",
       "      <td>상계9동</td>\n",
       "      <td>49.0</td>\n",
       "      <td>0</td>\n",
       "    </tr>\n",
       "    <tr>\n",
       "      <th>57953</th>\n",
       "      <td>0</td>\n",
       "      <td>미국</td>\n",
       "      <td>503</td>\n",
       "      <td>상계9동</td>\n",
       "      <td>-12.0</td>\n",
       "      <td>1</td>\n",
       "    </tr>\n",
       "    <tr>\n",
       "      <th>57954</th>\n",
       "      <td>1</td>\n",
       "      <td>미국</td>\n",
       "      <td>513</td>\n",
       "      <td>상계9동</td>\n",
       "      <td>-31.0</td>\n",
       "      <td>0</td>\n",
       "    </tr>\n",
       "    <tr>\n",
       "      <th>57955</th>\n",
       "      <td>0</td>\n",
       "      <td>미국</td>\n",
       "      <td>412</td>\n",
       "      <td>상계9동</td>\n",
       "      <td>-89.0</td>\n",
       "      <td>0</td>\n",
       "    </tr>\n",
       "  </tbody>\n",
       "</table>\n",
       "<p>57956 rows × 6 columns</p>\n",
       "</div>"
      ],
      "text/plain": [
       "       cluster  나라   일자  행정동명  이용금액 차이  이용건수 차이\n",
       "0            2  대만  220  범어1동   -516.0       -7\n",
       "1            2  대만  204  범어1동   4247.0       29\n",
       "2            2  대만  218  범어1동   1481.0        6\n",
       "3            2  대만  210  범어1동  -2098.0      -23\n",
       "4            0  미국  324  범어1동    -51.0        0\n",
       "...        ...  ..  ...   ...      ...      ...\n",
       "57951        1  미국  519  상계9동    -10.0        0\n",
       "57952        0  미국  204  상계9동     49.0        0\n",
       "57953        0  미국  503  상계9동    -12.0        1\n",
       "57954        1  미국  513  상계9동    -31.0        0\n",
       "57955        0  미국  412  상계9동    -89.0        0\n",
       "\n",
       "[57956 rows x 6 columns]"
      ]
     },
     "execution_count": 11,
     "metadata": {},
     "output_type": "execute_result"
    }
   ],
   "source": [
    "# 이용금액, 이용건수 차이를 업종별로 합계를 구해 2차원 array X에 넣어줌\n",
    "temp = pd.DataFrame(fore_20.groupby(['업종코드'])['이용금액 차이','이용건수 차이'].sum())\n",
    "X,y = [temp[temp.columns[:]],temp.index ]\n",
    "\n",
    "# KMeans 를 이용하여 clustering\n",
    "from sklearn.cluster import KMeans\n",
    "kmeans = KMeans(n_clusters=3).fit(X)\n",
    "cluster = dict(zip(y,kmeans.labels_))\n",
    "\n",
    "# 업종코드를 군집화 된 값으로 replace\n",
    "fore_20['업종코드'].replace(cluster,inplace = True)\n",
    "fore_20.rename(columns={'업종코드':'cluster'},inplace = True)\n",
    "fore_20"
   ]
  },
  {
   "cell_type": "code",
   "execution_count": 12,
   "metadata": {},
   "outputs": [],
   "source": [
    "nations = fore_20['나라'].unique().tolist()\n",
    "dongs = fore_20['행정동명'].unique().tolist()\n",
    "r_nations = {}\n",
    "r_dongs = {}\n",
    "for i,v in enumerate(nations):\n",
    "    r_nations[v] = i\n",
    "for i,v in enumerate(dongs):\n",
    "    r_dongs[v] = i\n",
    "\n",
    "fore_20['나라'].replace(r_nations,inplace = True)\n",
    "fore_20['행정동명'].replace(r_dongs,inplace = True)"
   ]
  },
  {
   "cell_type": "markdown",
   "metadata": {},
   "source": [
    "### 외국인 데이터와 국내감염자 수치를 병합"
   ]
  },
  {
   "cell_type": "code",
   "execution_count": 13,
   "metadata": {},
   "outputs": [],
   "source": [
    "kr_daily = pd.read_csv('/Users/jaeyoungcho/Desktop/BigContest/데이터 정의서 및     모음/코로나 일별 확진자.csv',sep = ',',encoding='CP949')"
   ]
  },
  {
   "cell_type": "code",
   "execution_count": 14,
   "metadata": {},
   "outputs": [],
   "source": [
    "a = []\n",
    "for i in range(len(kr_daily['confirmed'])-1):\n",
    "    a.append(kr_daily['confirmed'].tolist()[i+1] - kr_daily['confirmed'].tolist()[i])\n",
    "a.append(0)\n",
    "\n",
    "kr_daily['일별감염자'] = pd.Series(a)\n",
    "kr_daily['일자'] = pd.Series(map(lambda x: x % 10000,kr_daily['date']))\n",
    "kr_daily.drop(['date'],axis = 1,inplace = True)\n",
    "fore = pd.merge(fore_20,kr_daily,on = '일자')"
   ]
  },
  {
   "cell_type": "markdown",
   "metadata": {},
   "source": [
    "### 외국인 데이터가 이미 특정 열을 기준으로 정렬이 돼 있어 편향된 값으로 X,y 를 가질 수 있기 때문에 sklearn.utils.shuffle 을 이용해 데이터를 섞어줌"
   ]
  },
  {
   "cell_type": "code",
   "execution_count": 15,
   "metadata": {},
   "outputs": [],
   "source": [
    "import sklearn"
   ]
  },
  {
   "cell_type": "code",
   "execution_count": 16,
   "metadata": {},
   "outputs": [],
   "source": [
    "temp = sklearn.utils.shuffle(fore)\n",
    "temp.rename(columns={'confirmed':'누적감염자'},inplace = True)\n",
    "X,y = [temp[temp.columns[1:]],temp['cluster']]"
   ]
  },
  {
   "cell_type": "markdown",
   "metadata": {},
   "source": [
    "### 랜덤포레스트와 교차검증을 이용한 정확도"
   ]
  },
  {
   "cell_type": "code",
   "execution_count": 17,
   "metadata": {},
   "outputs": [],
   "source": [
    "from sklearn.ensemble import RandomForestClassifier\n",
    "from sklearn.model_selection import cross_val_score"
   ]
  },
  {
   "cell_type": "code",
   "execution_count": 18,
   "metadata": {},
   "outputs": [],
   "source": [
    "RF = RandomForestClassifier(n_estimators=100).fit(X,y)"
   ]
  },
  {
   "cell_type": "code",
   "execution_count": 19,
   "metadata": {},
   "outputs": [],
   "source": [
    "Cross_val = cross_val_score(RF,X,y,cv =5)"
   ]
  },
  {
   "cell_type": "code",
   "execution_count": 20,
   "metadata": {},
   "outputs": [
    {
     "name": "stdout",
     "output_type": "stream",
     "text": [
      "교차검증 값 : [0.76501035 0.76447244 0.76550772 0.76766457 0.76861358]\n",
      "교차 검증 평균 : 0.7662537311646628\n"
     ]
    }
   ],
   "source": [
    "print('교차검증 값 : {}\\n교차 검증 평균 : {}'.format(Cross_val,Cross_val.mean()))"
   ]
  },
  {
   "cell_type": "markdown",
   "metadata": {},
   "source": [
    "### 위 예측 값이 나쁘지않지만 충분히 만족스럽지 않아 random forest 특성중요도 확인 후 파란색 특성은 삭제"
   ]
  },
  {
   "cell_type": "code",
   "execution_count": 21,
   "metadata": {},
   "outputs": [
    {
     "data": {
      "text/plain": [
       "<BarContainer object of 11 artists>"
      ]
     },
     "execution_count": 21,
     "metadata": {},
     "output_type": "execute_result"
    },
    {
     "data": {
      "image/png": "[encoded data removed]",
      "text/plain": [
       "<Figure size 432x288 with 1 Axes>"
      ]
     },
     "metadata": {
      "needs_background": "light"
     },
     "output_type": "display_data"
    }
   ],
   "source": [
    "plt.barh(temp.columns[1:].tolist(),RF.feature_importances_,color = ['r','r','r','r','r','r','b','b','b','b','r'])"
   ]
  },
  {
   "cell_type": "markdown",
   "metadata": {},
   "source": [
    "### 너무 불필요하다고 판단되는 피쳐는 빼고 다시 계산"
   ]
  },
  {
   "cell_type": "code",
   "execution_count": 22,
   "metadata": {},
   "outputs": [],
   "source": [
    "temp.drop(temp.columns[7:11].tolist(),axis = 1,inplace = True)"
   ]
  },
  {
   "cell_type": "code",
   "execution_count": 23,
   "metadata": {},
   "outputs": [],
   "source": [
    "X,y = [temp[temp.columns[1:]],temp['cluster']]"
   ]
  },
  {
   "cell_type": "code",
   "execution_count": 24,
   "metadata": {},
   "outputs": [],
   "source": [
    "RF = RandomForestClassifier(n_estimators=100)"
   ]
  },
  {
   "cell_type": "code",
   "execution_count": 25,
   "metadata": {},
   "outputs": [
    {
     "name": "stdout",
     "output_type": "stream",
     "text": [
      "교차검증 값 : [0.78519669 0.78509188 0.78474679 0.78552325 0.78500561]\n",
      "교차 검증 평균 : 0.7851128427799609\n"
     ]
    }
   ],
   "source": [
    "RF.fit(X,y)\n",
    "Cross_val = cross_val_score(RF,X,y)\n",
    "print('교차검증 값 : {}\\n교차 검증 평균 : {}'.format(Cross_val,Cross_val.mean()))"
   ]
  },
  {
   "cell_type": "code",
   "execution_count": 26,
   "metadata": {},
   "outputs": [
    {
     "data": {
      "text/plain": [
       "<BarContainer object of 7 artists>"
      ]
     },
     "execution_count": 26,
     "metadata": {},
     "output_type": "execute_result"
    },
    {
     "data": {
      "image/png": "[encoded data removed]",
      "text/plain": [
       "<Figure size 432x288 with 1 Axes>"
      ]
     },
     "metadata": {
      "needs_background": "light"
     },
     "output_type": "display_data"
    }
   ],
   "source": [
    "plt.barh(temp.columns[1:].tolist(),RF.feature_importances_)"
   ]
  },
  {
   "cell_type": "code",
   "execution_count": 27,
   "metadata": {},
   "outputs": [
    {
     "name": "stdout",
     "output_type": "stream",
     "text": [
      "Randon_state = 42 일 때\n",
      "훈련데이터 정확도 :  0.9999808282208589\n",
      "시험데이터 정확도 :  0.790200138026225\n",
      "Randon_state = 30 일 때\n",
      "훈련데이터 정확도 :  0.9999424846625767\n",
      "시험데이터 정확도 :  0.7900276052449966\n",
      "Randon_state = 21 일 때\n",
      "훈련데이터 정확도 :  0.9999424846625767\n",
      "시험데이터 정확도 :  0.7867494824016563\n"
     ]
    }
   ],
   "source": [
    "from sklearn.model_selection import train_test_split\n",
    "X_train,X_test,y_train,y_test = train_test_split(X,y,random_state = 42,test_size = 0.1)\n",
    "RF.fit(X_train,y_train)\n",
    "print('Randon_state = 42 일 때')\n",
    "print('훈련데이터 정확도 : ',RF.score(X_train,y_train))\n",
    "print('시험데이터 정확도 : ',RF.score(X_test,y_test))\n",
    "from sklearn.model_selection import train_test_split\n",
    "X_train,X_test,y_train,y_test = train_test_split(X,y,random_state = 30,test_size = 0.1)\n",
    "RF.fit(X_train,y_train)\n",
    "print('Randon_state = 30 일 때')\n",
    "print('훈련데이터 정확도 : ',RF.score(X_train,y_train))\n",
    "print('시험데이터 정확도 : ',RF.score(X_test,y_test))\n",
    "from sklearn.model_selection import train_test_split\n",
    "X_train,X_test,y_train,y_test = train_test_split(X,y,random_state = 21,test_size = 0.1)\n",
    "RF.fit(X_train,y_train)\n",
    "print('Randon_state = 21 일 때')\n",
    "print('훈련데이터 정확도 : ',RF.score(X_train,y_train))\n",
    "print('시험데이터 정확도 : ',RF.score(X_test,y_test))"
   ]
  },
  {
   "cell_type": "markdown",
   "metadata": {},
   "source": [
    "### 위 내용으로 과적합 돼 있다는 것을 확인 가능"
   ]
  },
  {
   "cell_type": "markdown",
   "metadata": {},
   "source": [
    "#### max_depth 는 20정도가 무난"
   ]
  },
  {
   "cell_type": "code",
   "execution_count": 28,
   "metadata": {},
   "outputs": [
    {
     "data": {
      "text/plain": [
       "array([0.75327812, 0.74928824, 0.75023725, 0.74739022, 0.74583729])"
      ]
     },
     "execution_count": 28,
     "metadata": {},
     "output_type": "execute_result"
    }
   ],
   "source": [
    "RF = RandomForestClassifier(n_estimators=100,max_depth= 10)\n",
    "cross_val_score(RF,X,y,cv = 5)"
   ]
  },
  {
   "cell_type": "code",
   "execution_count": 29,
   "metadata": {},
   "outputs": [
    {
     "data": {
      "text/plain": [
       "array([0.7820911 , 0.7837115 , 0.78060564, 0.7820723 , 0.78310758])"
      ]
     },
     "execution_count": 29,
     "metadata": {},
     "output_type": "execute_result"
    }
   ],
   "source": [
    "RF = RandomForestClassifier(n_estimators=100,max_depth= 15)\n",
    "cross_val_score(RF,X,y,cv = 5)"
   ]
  },
  {
   "cell_type": "code",
   "execution_count": 30,
   "metadata": {},
   "outputs": [
    {
     "data": {
      "text/plain": [
       "array([0.78424776, 0.78422914, 0.78888793, 0.78655854, 0.78647226])"
      ]
     },
     "execution_count": 30,
     "metadata": {},
     "output_type": "execute_result"
    }
   ],
   "source": [
    "RF = RandomForestClassifier(n_estimators=100,max_depth= 20)\n",
    "cross_val_score(RF,X,y,cv = 5)"
   ]
  },
  {
   "cell_type": "code",
   "execution_count": 31,
   "metadata": {},
   "outputs": [
    {
     "data": {
      "text/plain": [
       "array([0.7826087 , 0.7837115 , 0.78776637, 0.78526443, 0.78276249])"
      ]
     },
     "execution_count": 31,
     "metadata": {},
     "output_type": "execute_result"
    }
   ],
   "source": [
    "RF = RandomForestClassifier(n_estimators=100,max_depth= 25)\n",
    "cross_val_score(RF,X,y,cv = 5)"
   ]
  },
  {
   "cell_type": "markdown",
   "metadata": {},
   "source": [
    "#### max_feature 는 6이 무난"
   ]
  },
  {
   "cell_type": "code",
   "execution_count": 32,
   "metadata": {},
   "outputs": [
    {
     "data": {
      "text/plain": [
       "array([0.80831608, 0.79984471, 0.80346821, 0.80493486, 0.80691916])"
      ]
     },
     "execution_count": 32,
     "metadata": {},
     "output_type": "execute_result"
    }
   ],
   "source": [
    "RF = RandomForestClassifier(n_estimators=100,max_depth= 20,max_features=3)\n",
    "cross_val_score(RF,X,y,cv = 5)"
   ]
  },
  {
   "cell_type": "code",
   "execution_count": 33,
   "metadata": {},
   "outputs": [
    {
     "data": {
      "text/plain": [
       "array([0.80978261, 0.80691916, 0.81123285, 0.80881719, 0.8117505 ])"
      ]
     },
     "execution_count": 33,
     "metadata": {},
     "output_type": "execute_result"
    }
   ],
   "source": [
    "RF = RandomForestClassifier(n_estimators=100,max_depth= 20,max_features=4)\n",
    "cross_val_score(RF,X,y,cv = 5)"
   ]
  },
  {
   "cell_type": "code",
   "execution_count": 34,
   "metadata": {},
   "outputs": [
    {
     "data": {
      "text/plain": [
       "array([0.81099034, 0.8077819 , 0.81364852, 0.81287206, 0.81382107])"
      ]
     },
     "execution_count": 34,
     "metadata": {},
     "output_type": "execute_result"
    }
   ],
   "source": [
    "RF = RandomForestClassifier(n_estimators=100,max_depth= 20,max_features=5)\n",
    "cross_val_score(RF,X,y,cv = 5)"
   ]
  },
  {
   "cell_type": "code",
   "execution_count": 35,
   "metadata": {},
   "outputs": [
    {
     "data": {
      "text/plain": [
       "array([0.81280193, 0.80735053, 0.81356225, 0.81071521, 0.81269951])"
      ]
     },
     "execution_count": 35,
     "metadata": {},
     "output_type": "execute_result"
    }
   ],
   "source": [
    "RF = RandomForestClassifier(n_estimators=100,max_depth= 20,max_features=6)\n",
    "cross_val_score(RF,X,y,cv = 5)"
   ]
  },
  {
   "cell_type": "markdown",
   "metadata": {},
   "source": [
    "### 일자 컬럼을 들고와서 1~120의 수열로 바꾸고 ** 2"
   ]
  },
  {
   "cell_type": "code",
   "execution_count": 36,
   "metadata": {},
   "outputs": [],
   "source": [
    "temp['일자2제곱'] = pd.Series(temp['일자'] ** 2)"
   ]
  },
  {
   "cell_type": "code",
   "execution_count": 37,
   "metadata": {},
   "outputs": [],
   "source": [
    "temp.drop(['일자'], axis = 1, inplace =  True)"
   ]
  },
  {
   "cell_type": "code",
   "execution_count": 38,
   "metadata": {},
   "outputs": [],
   "source": [
    "X,y = [temp[temp.columns[1:]],temp['cluster']]"
   ]
  },
  {
   "cell_type": "code",
   "execution_count": 44,
   "metadata": {},
   "outputs": [
    {
     "data": {
      "text/html": [
       "<div>\n",
       "<style scoped>\n",
       "    .dataframe tbody tr th:only-of-type {\n",
       "        vertical-align: middle;\n",
       "    }\n",
       "\n",
       "    .dataframe tbody tr th {\n",
       "        vertical-align: top;\n",
       "    }\n",
       "\n",
       "    .dataframe thead th {\n",
       "        text-align: right;\n",
       "    }\n",
       "</style>\n",
       "<table border=\"1\" class=\"dataframe\">\n",
       "  <thead>\n",
       "    <tr style=\"text-align: right;\">\n",
       "      <th></th>\n",
       "      <th>나라</th>\n",
       "      <th>행정동명</th>\n",
       "      <th>이용금액 차이</th>\n",
       "      <th>이용건수 차이</th>\n",
       "      <th>누적감염자</th>\n",
       "      <th>일별감염자</th>\n",
       "      <th>일자2제곱</th>\n",
       "    </tr>\n",
       "  </thead>\n",
       "  <tbody>\n",
       "    <tr>\n",
       "      <th>46008</th>\n",
       "      <td>20</td>\n",
       "      <td>24</td>\n",
       "      <td>13.0</td>\n",
       "      <td>6</td>\n",
       "      <td>11165</td>\n",
       "      <td>25</td>\n",
       "      <td>273529</td>\n",
       "    </tr>\n",
       "    <tr>\n",
       "      <th>28615</th>\n",
       "      <td>4</td>\n",
       "      <td>47</td>\n",
       "      <td>225.0</td>\n",
       "      <td>-2</td>\n",
       "      <td>46</td>\n",
       "      <td>58</td>\n",
       "      <td>47961</td>\n",
       "    </tr>\n",
       "    <tr>\n",
       "      <th>55380</th>\n",
       "      <td>6</td>\n",
       "      <td>16</td>\n",
       "      <td>-362626.0</td>\n",
       "      <td>-1076</td>\n",
       "      <td>11190</td>\n",
       "      <td>16</td>\n",
       "      <td>274576</td>\n",
       "    </tr>\n",
       "    <tr>\n",
       "      <th>42402</th>\n",
       "      <td>1</td>\n",
       "      <td>24</td>\n",
       "      <td>-111.0</td>\n",
       "      <td>-2</td>\n",
       "      <td>4812</td>\n",
       "      <td>516</td>\n",
       "      <td>91809</td>\n",
       "    </tr>\n",
       "    <tr>\n",
       "      <th>1267</th>\n",
       "      <td>8</td>\n",
       "      <td>26</td>\n",
       "      <td>-341.0</td>\n",
       "      <td>0</td>\n",
       "      <td>16</td>\n",
       "      <td>5</td>\n",
       "      <td>41616</td>\n",
       "    </tr>\n",
       "    <tr>\n",
       "      <th>...</th>\n",
       "      <td>...</td>\n",
       "      <td>...</td>\n",
       "      <td>...</td>\n",
       "      <td>...</td>\n",
       "      <td>...</td>\n",
       "      <td>...</td>\n",
       "      <td>...</td>\n",
       "    </tr>\n",
       "    <tr>\n",
       "      <th>14431</th>\n",
       "      <td>1</td>\n",
       "      <td>36</td>\n",
       "      <td>16.0</td>\n",
       "      <td>0</td>\n",
       "      <td>12</td>\n",
       "      <td>3</td>\n",
       "      <td>40401</td>\n",
       "    </tr>\n",
       "    <tr>\n",
       "      <th>20697</th>\n",
       "      <td>5</td>\n",
       "      <td>29</td>\n",
       "      <td>6690.0</td>\n",
       "      <td>120</td>\n",
       "      <td>30</td>\n",
       "      <td>9</td>\n",
       "      <td>47089</td>\n",
       "    </tr>\n",
       "    <tr>\n",
       "      <th>14916</th>\n",
       "      <td>4</td>\n",
       "      <td>0</td>\n",
       "      <td>26.0</td>\n",
       "      <td>0</td>\n",
       "      <td>10062</td>\n",
       "      <td>94</td>\n",
       "      <td>162409</td>\n",
       "    </tr>\n",
       "    <tr>\n",
       "      <th>4067</th>\n",
       "      <td>11</td>\n",
       "      <td>2</td>\n",
       "      <td>-1844.0</td>\n",
       "      <td>-99</td>\n",
       "      <td>10991</td>\n",
       "      <td>27</td>\n",
       "      <td>264196</td>\n",
       "    </tr>\n",
       "    <tr>\n",
       "      <th>45115</th>\n",
       "      <td>1</td>\n",
       "      <td>23</td>\n",
       "      <td>-26.0</td>\n",
       "      <td>-1</td>\n",
       "      <td>977</td>\n",
       "      <td>284</td>\n",
       "      <td>50625</td>\n",
       "    </tr>\n",
       "  </tbody>\n",
       "</table>\n",
       "<p>57956 rows × 7 columns</p>\n",
       "</div>"
      ],
      "text/plain": [
       "       나라  행정동명   이용금액 차이  이용건수 차이  누적감염자  일별감염자   일자2제곱\n",
       "46008  20    24      13.0        6  11165     25  273529\n",
       "28615   4    47     225.0       -2     46     58   47961\n",
       "55380   6    16 -362626.0    -1076  11190     16  274576\n",
       "42402   1    24    -111.0       -2   4812    516   91809\n",
       "1267    8    26    -341.0        0     16      5   41616\n",
       "...    ..   ...       ...      ...    ...    ...     ...\n",
       "14431   1    36      16.0        0     12      3   40401\n",
       "20697   5    29    6690.0      120     30      9   47089\n",
       "14916   4     0      26.0        0  10062     94  162409\n",
       "4067   11     2   -1844.0      -99  10991     27  264196\n",
       "45115   1    23     -26.0       -1    977    284   50625\n",
       "\n",
       "[57956 rows x 7 columns]"
      ]
     },
     "execution_count": 44,
     "metadata": {},
     "output_type": "execute_result"
    }
   ],
   "source": [
    "X"
   ]
  },
  {
   "cell_type": "code",
   "execution_count": 46,
   "metadata": {},
   "outputs": [
    {
     "data": {
      "text/html": [
       "<div>\n",
       "<style scoped>\n",
       "    .dataframe tbody tr th:only-of-type {\n",
       "        vertical-align: middle;\n",
       "    }\n",
       "\n",
       "    .dataframe tbody tr th {\n",
       "        vertical-align: top;\n",
       "    }\n",
       "\n",
       "    .dataframe thead th {\n",
       "        text-align: right;\n",
       "    }\n",
       "</style>\n",
       "<table border=\"1\" class=\"dataframe\">\n",
       "  <thead>\n",
       "    <tr style=\"text-align: right;\">\n",
       "      <th></th>\n",
       "      <th>cluster</th>\n",
       "    </tr>\n",
       "  </thead>\n",
       "  <tbody>\n",
       "    <tr>\n",
       "      <th>46008</th>\n",
       "      <td>0</td>\n",
       "    </tr>\n",
       "    <tr>\n",
       "      <th>28615</th>\n",
       "      <td>1</td>\n",
       "    </tr>\n",
       "    <tr>\n",
       "      <th>55380</th>\n",
       "      <td>2</td>\n",
       "    </tr>\n",
       "    <tr>\n",
       "      <th>42402</th>\n",
       "      <td>0</td>\n",
       "    </tr>\n",
       "    <tr>\n",
       "      <th>1267</th>\n",
       "      <td>0</td>\n",
       "    </tr>\n",
       "    <tr>\n",
       "      <th>...</th>\n",
       "      <td>...</td>\n",
       "    </tr>\n",
       "    <tr>\n",
       "      <th>14431</th>\n",
       "      <td>0</td>\n",
       "    </tr>\n",
       "    <tr>\n",
       "      <th>20697</th>\n",
       "      <td>0</td>\n",
       "    </tr>\n",
       "    <tr>\n",
       "      <th>14916</th>\n",
       "      <td>1</td>\n",
       "    </tr>\n",
       "    <tr>\n",
       "      <th>4067</th>\n",
       "      <td>0</td>\n",
       "    </tr>\n",
       "    <tr>\n",
       "      <th>45115</th>\n",
       "      <td>1</td>\n",
       "    </tr>\n",
       "  </tbody>\n",
       "</table>\n",
       "<p>57956 rows × 1 columns</p>\n",
       "</div>"
      ],
      "text/plain": [
       "       cluster\n",
       "46008        0\n",
       "28615        1\n",
       "55380        2\n",
       "42402        0\n",
       "1267         0\n",
       "...        ...\n",
       "14431        0\n",
       "20697        0\n",
       "14916        1\n",
       "4067         0\n",
       "45115        1\n",
       "\n",
       "[57956 rows x 1 columns]"
      ]
     },
     "execution_count": 46,
     "metadata": {},
     "output_type": "execute_result"
    }
   ],
   "source": [
    "pd.DataFrame(y)"
   ]
  },
  {
   "cell_type": "code",
   "execution_count": 47,
   "metadata": {},
   "outputs": [
    {
     "data": {
      "text/plain": [
       "RandomForestClassifier(max_depth=20, max_features=3)"
      ]
     },
     "execution_count": 47,
     "metadata": {},
     "output_type": "execute_result"
    }
   ],
   "source": [
    "RF.fit(X,y)"
   ]
  },
  {
   "cell_type": "code",
   "execution_count": 48,
   "metadata": {},
   "outputs": [
    {
     "data": {
      "text/plain": [
       "0.8046448902938008"
      ]
     },
     "execution_count": 48,
     "metadata": {},
     "output_type": "execute_result"
    }
   ],
   "source": [
    "RF = RandomForestClassifier(n_estimators=100,max_features=3,max_depth=20)\n",
    "cross_val_score(RF,X,y,cv = 5).mean()"
   ]
  },
  {
   "cell_type": "code",
   "execution_count": null,
   "metadata": {},
   "outputs": [],
   "source": []
  },
  {
   "cell_type": "code",
   "execution_count": null,
   "metadata": {},
   "outputs": [],
   "source": []
  },
  {
   "cell_type": "code",
   "execution_count": null,
   "metadata": {},
   "outputs": [],
   "source": []
  }
 ],
 "metadata": {
  "kernelspec": {
   "display_name": "Python 3",
   "language": "python",
   "name": "python3"
  },
  "language_info": {
   "codemirror_mode": {
    "name": "ipython",
    "version": 3
   },
   "file_extension": ".py",
   "mimetype": "text/x-python",
   "name": "python",
   "nbconvert_exporter": "python",
   "pygments_lexer": "ipython3",
   "version": "3.6.10"
  }
 },
 "nbformat": 4,
 "nbformat_minor": 4
}
